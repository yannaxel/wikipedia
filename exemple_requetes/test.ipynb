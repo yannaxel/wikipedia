{
 "cells": [
  {
   "cell_type": "markdown",
   "metadata": {},
   "source": [
    "pip install wikipedia"
   ]
  },
  {
   "cell_type": "code",
   "execution_count": 1,
   "metadata": {},
   "outputs": [],
   "source": [
    "import wikipedia"
   ]
  },
  {
   "cell_type": "code",
   "execution_count": 2,
   "metadata": {},
   "outputs": [
    {
     "name": "stdout",
     "output_type": "stream",
     "text": [
      "Emmanuel Jean-Michel Frédéric Macron (French: [emanɥɛl ʒɑ̃ miʃɛl fʁedeʁik makʁɔ̃]; born 21 December 1977) is a French politician who has been serving as the president of France since 14 May 2017. \n",
      "Born in Amiens, Macron studied philosophy at Paris Nanterre University, later completing a master's degree in public affairs at Sciences Po and graduating from the École nationale d'administration in 2004. He worked as a senior civil servant at the Inspectorate General of Finances and later became an investment banker at Rothschild & Co.\n"
     ]
    }
   ],
   "source": [
    "print(wikipedia.summary(\"Emmanuel Macron\", sentences=3))"
   ]
  },
  {
   "cell_type": "code",
   "execution_count": 3,
   "metadata": {},
   "outputs": [
    {
     "name": "stdout",
     "output_type": "stream",
     "text": [
      "['http://www.bfmtv.com/police-justice/fraude-fiscale-jerome-cahuzac-condamne-a-deux-ans-ferme-n-ira-pas-en-prison-1445715.html', 'http://www.assemblee-nationale.fr/13/tribun/fiches_id/706.asp', 'http://www.ca-paris.justice.fr/', 'http://www.lemonde.fr/politique/article/2013/04/09/le-bureau-national-du-ps-exclut-jerome-cahuzac-a-l-unanimite_3156859_823448.html', 'http://www.liberation.fr/politiques/2013/03/19/information-judiciaire-ouverte-dans-l-affaire-cahuzac_889698', 'https://www.theguardian.com/world/2013/apr/02/jerome-cahuzac-france-offshore-account?INTCMP=SRCH', 'https://catalogue.bnf.fr/ark:/12148/cb13057848h', 'https://catalogue.bnf.fr/ark:/12148/cb16526574n', 'https://data.bnf.fr/ark:/12148/cb13057848h', 'https://data.bnf.fr/ark:/12148/cb16526574n', 'https://www.idref.fr/058926372', 'https://d-nb.info/gnd/1043024344', 'https://panamapapers.icij.org/the_power_players/#4', 'https://isni.org/isni/0000000140326791', 'https://viaf.org/viaf/203069245', 'https://www.wikidata.org/wiki/Q57751#identifiers', 'https://www.worldcat.org/identities/lccn-n2013063080']\n",
      "Jérôme Cahuzac\n",
      "['1952 births', 'Articles with BNF identifiers', 'Articles with GND identifiers', 'Articles with ISNI identifiers', 'Articles with SUDOC identifiers', 'Articles with VIAF identifiers', 'Articles with WORLDCATID identifiers', 'Articles with multiple identifiers', 'Articles with short description', 'CS1 French-language sources (fr)', 'Deputies of the 13th National Assembly of the French Fifth Republic', 'EngvarB from April 2017', 'French politicians convicted of crimes', 'French surgeons', 'Government ministers of France', 'Living people', 'People from Talence', 'People named in the Panama Papers', 'Short description matches Wikidata', 'Socialist Party (France) politicians', 'Use dmy dates from April 2017']\n"
     ]
    }
   ],
   "source": [
    "print(wikipedia.page(\"Jérôme Cahuzac\").references)\n",
    "print(wikipedia.page(\"Jérôme Cahuzac\").title)\n",
    "print(wikipedia.page(\"Jérôme Cahuzac\").categories)"
   ]
  },
  {
   "cell_type": "code",
   "execution_count": 4,
   "metadata": {},
   "outputs": [
    {
     "name": "stdout",
     "output_type": "stream",
     "text": [
      "This is a partial list of people named in the Panama Papers as shareholders, directors and beneficiaries of offshore companies. The International Consortium of Investigative Journalists (ICIJ) released the full list of companies and individuals in the Panama Papers on 10 May 2016. ICIJ published the following disclaimer with regard to the data provided: \"There are legitimate uses for offshore companies, foundations and trusts.\n"
     ]
    }
   ],
   "source": [
    "print(wikipedia.summary(\"List of people named in the Panama Papers\", sentences=3))"
   ]
  },
  {
   "cell_type": "code",
   "execution_count": 20,
   "metadata": {},
   "outputs": [
    {
     "name": "stdout",
     "output_type": "stream",
     "text": [
      "['Aerospace companies of France', 'Aircraft manufacturers of France', 'All articles with dead external links', 'Articles with BNF identifiers', 'Articles with GND identifiers', 'Articles with ISNI identifiers', 'Articles with LCCN identifiers', 'Articles with MA identifiers', 'Articles with SUDOC identifiers', 'Articles with VIAF identifiers', 'Articles with WORLDCATID identifiers', 'Articles with dead external links from November 2019', 'Articles with multiple identifiers', 'Articles with permanently dead external links', 'Articles with short description', 'CAC Mid 60', 'CS1 French-language sources (fr)', 'CS1 errors: URL', 'Commons link is defined as the pagename', 'Companies listed on Euronext Paris', 'Dassault Group', 'Dassault Group aircraft', 'Dassault family', 'Defence companies of France', 'French companies established in 1930', 'Multinational companies headquartered in France', 'Short description matches Wikidata', 'Use dmy dates from April 2020', 'Vehicle manufacturing companies established in 1930', 'Webarchive template wayback links']\n"
     ]
    }
   ],
   "source": [
    "print(wikipedia.page(\"Dassault Aviation\").categories)"
   ]
  },
  {
   "cell_type": "code",
   "execution_count": 21,
   "metadata": {},
   "outputs": [
    {
     "name": "stdout",
     "output_type": "stream",
     "text": [
      "50037005\n"
     ]
    }
   ],
   "source": [
    "print(wikipedia.page(\"List of people named in the Panama Papers\").title)"
   ]
  },
  {
   "cell_type": "code",
   "execution_count": 7,
   "metadata": {},
   "outputs": [],
   "source": [
    "# print(wikipedia.page(\"List of people named in the Panama Papers\").references)"
   ]
  },
  {
   "cell_type": "code",
   "execution_count": 10,
   "metadata": {},
   "outputs": [
    {
     "name": "stdout",
     "output_type": "stream",
     "text": [
      "['https://upload.wikimedia.org/wikipedia/commons/b/b6/PR-2012-05-15_IMG_1493_%28crop%29.jpg', 'https://upload.wikimedia.org/wikipedia/en/8/8a/OOjs_UI_icon_edit-ltr-progressive.svg']\n"
     ]
    }
   ],
   "source": [
    "print(wikipedia.page(\"Jérôme Cahuzac\").images)"
   ]
  },
  {
   "cell_type": "code",
   "execution_count": 11,
   "metadata": {},
   "outputs": [
    {
     "name": "stdout",
     "output_type": "stream",
     "text": [
      "This is a partial list of people named in the Panama Papers as shareholders, directors and beneficiaries of offshore companies. The International Consortium of Investigative Journalists (ICIJ) released the full list of companies and individuals in the Panama Papers on 10 May 2016. ICIJ published the following disclaimer with regard to the data provided: \"There are legitimate uses for offshore companies, foundations and trusts. We do not intend to suggest or imply that any persons, companies or other entities included in the ICIJ Power Players interactive application have broken the law or otherwise acted improperly.\" The disclosures \"implicated at least 140 politicians from more than 50 countries\" in tax evasion schemes.\n"
     ]
    }
   ],
   "source": [
    "print(wikipedia.page(\"List of people named in the Panama Papers\").summary)"
   ]
  },
  {
   "cell_type": "code",
   "execution_count": 12,
   "metadata": {},
   "outputs": [
    {
     "name": "stdout",
     "output_type": "stream",
     "text": [
      "Jérôme André Cahuzac (born 19 June 1952) is a French surgeon and former politician who served as Minister of the Budget at the Ministry of the Economy and Finance under President François Hollande from 2012 to 2013. A former member of the Socialist Party (PS), he previously was the member of the National Assembly for the 3rd constituency of Lot-et-Garonne from 1997 to 2002 and again from 2007 to 2012. He resigned from his ministership and was expelled from the party amidst the Cahuzac affair, in which he was accused and subsequently convicted of tax fraud.\n"
     ]
    }
   ],
   "source": [
    "print(wikipedia.page(\"Jérôme Cahuzac\").summary)"
   ]
  },
  {
   "cell_type": "code",
   "execution_count": 19,
   "metadata": {},
   "outputs": [
    {
     "name": "stdout",
     "output_type": "stream",
     "text": [
      "['2015 FIFA corruption case', '2016 Formula 1 World Championship', 'ABC News (Australia)', 'ABN-AMRO', 'AS Monaco', 'ATP World Tour', 'Aarhus Gymnastikforening', 'Abasaheb Garware', 'Abdeslam Bouchouareb', 'Abdoulaye Wade', 'Abdul Rashid Mir', 'Abigael González Valencia', 'Adidas', 'Adriano Chimento', 'Africa-Israel Investments', 'Agustín Almodóvar', 'Ahmed al-Mirghani', 'Aishwarya Rai Bachchan', 'Ajax Cape Town', 'Ajay Devgan', 'Alaa Mubarak', 'Alberto Alcocer', 'Alberto Cortina', 'Alfonso Soriano', 'Alfonso de Angoitia', 'Algeria', 'Ali Abu al-Ragheb', 'Alternative Investment Market', 'Amitabh Bachchan', 'Ana Botella', 'Anders Wall', 'Andorra', 'Andy Cole', 'Ang Vong Vathana', 'Angola', 'Anil Salgaocar', 'Anthony Gumbiner', 'Anthony Merchant', 'Antonio Hernández Mancha', 'Antonis Samaras', 'Anurag Kejriwal', 'Anwar Saifullah Khan', 'Apollo Tyres', 'Arab Palestinian Investment Company', 'Aragonese Corts', 'Argentina', 'Argentine Chamber of Deputies', 'Ariel Sharon', 'Arkady Rotenberg', 'Arron Banks', 'Arsenal F.C.', 'Arzu Aliyeva', 'Ashwin Dani', 'Asian Paints', 'Asturias', 'Atan Shansonga', 'Atiku Abubakar', 'Atresmedia Corporación de Medios de Comunicación', 'Attorney General of Pakistan', 'Australia', 'Ayad Allawi', 'Azerbaijan', 'BBC', 'BBC News', 'Baba Sali', 'Bahria Town', \"Banca Privada d'Andorra\", 'Bangladesh', 'Bank Leumi', 'Bank of China', 'Bankia', \"Barbara d'Urso\", 'Bashar al-Assad', 'Belarus', 'Benazir Bhutto', 'Benidorm', 'Benjamin Wey', 'Beny Steinmetz', 'Berger Paints', 'Bert Meerstadt', 'Bertín Osborne', 'Bhutto family', 'Bidzina Ivanishvili', 'Bihar', 'Bill de Blasio', 'Bjarni Benediktsson (born 1970)', 'Bo Xilai', 'Boadilla del Monte', 'Bobby Fischer', 'Bongbong Marcos', 'Boris Romanovich Rotenberg', 'Botswana', 'Brazil', 'Brazilian Senate', 'Brian Steen Nielsen', \"Brink's-Mat robbery\", 'Bruno Itoua', 'Buenos Aires', 'Burberry', 'Business executive', 'Business magnate', 'CBC News', 'CD Castellón', 'COMSA', 'CONMEBOL', 'Caja Madrid', 'Cambodia', 'Camden Market', 'Canada', 'Canal de Isabel II', 'Carlo Verdone', 'Carlos Ortega (businessman)', 'Carmen Cervera', 'Carmen Lomana', 'Carmen Polledo', 'Celtic F.C.', 'Central Bank of Ecuador', 'Centro Nacional de Inteligencia', 'Chagoury Group', 'Chairman of the Communist Party of China', 'Chamber of Deputies (Brazil)', 'Chancellor', 'Channel 24 (Pakistan)', 'Chaudhry Shujaat Hussain', 'Chelsea F.C.', 'Chess', 'Chief Minister of Punjab, Pakistan', 'Chile', 'China', 'Church of God of Prophecy', 'Cirque du Soleil', 'City Council of Madrid', 'Clarence Seedorf', 'Coconuts Media', 'College Board', 'Colombia', 'Congress of Deputies', 'Conservative Party (UK)', 'Corinna zu Sayn-Wittgenstein', 'Cottage Industries Exposition Limited', 'Cristian Borcea', 'Cristina Fernández de Kirchner', 'Crown Prince of Saudi Arabia', 'Czech Republic', 'Cándido Conde-Pumpido', 'Cécilia Attias', 'DLF (company)', 'Daddy Yankee', 'Daedong Credit Bank', 'Daily Pakistan', 'Dan Gertler', 'Dan Gertler International', 'Daniel Fonseca', 'Daniel Steinmetz', 'Darko Kovačević', 'Darío Loperfido', 'David Cameron', 'David Davies (electrical engineer)', 'David Geffen', 'David Ho (businessman)', 'David Nahmad', 'David and Frederick Barclay', 'Dawood Hercules Corporation Limited', 'Dawood Ibrahim', 'Demetrio Carceller Segura', 'Democratic Republic of the Congo', 'Deng Jiagui', 'Denmark', 'Deputy Chief Justice of Kenya', 'Dermot Desmond', 'Diego Forlán', 'Director General of the Federal Investigation Agency', 'Dmitry Rybolovlev', 'Dominican Republic', 'Dominique Strauss-Kahn', 'Dorrit Moussaieff', 'Dov Weissglass', 'DreamWorks Pictures', 'Durgham Maraee', 'Eastern Province, Saudi Arabia', 'Ecuador', 'Edgardo Novick', 'Edison Lobão', 'Edith González', 'Eduardo Cunha', 'Eduardo Deluca', 'Egypt', 'El Mundo (Spain)', 'El País', 'El Universal (Mexico City)', 'El Vendrell', 'Elena de Borbón', 'Elias Bou Saab', 'Emilio Estevez', 'Emirate of Abu Dhabi', 'Emma Watson', 'Emmanuel Ndahiro', 'Ence', 'Engro Corporation', 'Enrique Peña Nieto', 'Erick Thohir', 'Esteban Bullrich', 'Estepona', 'Estrella Damm', 'Eufemiano Fuentes', 'Eugenio Figueredo', 'European Commissioner for Climate Action', 'European Commissioner for Energy Union', 'European Tour', 'Executive Vice President', 'Express Media Group', 'F.C Barcelona', 'FC Barcelona', 'FC Dinamo București', 'FC Nantes', 'FC Torpedo Armavir', 'FIFA', 'FIFA Ethics Committee', 'Federal Intelligence Agency', 'Felipe González', 'Felipe VI', 'Ferdinand Marcos', 'Fine Gael', 'Forza Italia', 'France', 'Francisco Franco', 'Francisco Paesa', 'Francisco Serra-Martins', 'Franco Dragone', 'Frank Flannery', 'Frank Giustra', 'Frank Timiș', 'Front National', 'Frédéric Chatillon', 'Gabriel Heinze', 'Gabriel Schürrer', 'Gabriele Volpi', 'Galo Chiriboga', 'Gary Rivlin', 'Gas Natural', 'General Secretary of the Communist Party of China', 'General councils of France', 'Georgia (country)', 'Gerardo González Valencia', 'Germany', 'Ghana', 'Giancarlo Giammetti', 'Gianni Infantino', 'Gianni Letta', 'Giovanni Toti', 'Glencore', 'Goa Legislative Assembly', 'Goulandris family', 'Government of Karnataka', 'Governor of the State Bank of Pakistan', 'Grand Hotel Quisisana', 'Grand Prix motorcycle racing', 'Grandmaster (chess)', 'Greece', 'Grupo ACS', 'Grupo Televisa, S.A.', 'Gu Kailai', 'Guadalajara Cartel', 'Guatemala', 'Guinea', 'Gunilla von Bismarck', 'Gustavo Arribas', 'Gérard Autajon', 'Gürtel case', 'HSBC', 'Haaretz', 'Habib Bank Limited', 'Hafez Makhlouf', 'Hamad bin Jassim bin Jaber Al Thani', 'Hamad bin Khalifa Al Thani', 'Harish Salve', 'Hashoo Group', 'Head of government', 'Heads of state', 'Heather Mills', 'Hebron', 'Heydar Aliyev', 'Hillary Clinton', 'Hilton Pharma', 'Hindustan Times', 'Honduras', 'Hong Kong', 'Hosni Mubarak', 'House of Commons of the United Kingdom', 'House of Lords', 'Hu Yaobang', 'Hub Power Company Limited', 'Hugo Jinkis', 'Humayun Saifullah Khan', 'Hungary', 'Hussain Dawood', 'IMF', 'ISBN (identifier)', 'ISSN (identifier)', 'Ian Cameron (stockbroker)', 'Ian Kirby', 'Iceland', 'Idan Ofer', 'Ife', 'Ignacio González González', 'Igor Olenicoff', 'Ilham Aliyev', 'Illegal drug trade in Latin America', 'Imanol Arias', 'Imee Marcos', 'Imelda Marcos', 'India', 'Indian National Congress', 'Indonesia', 'Indorama Corporation', 'Infanta Cristina', 'Infanta Pilar, Duchess of Badajoz', 'International Business Times', 'International Consortium of Investigative Journalists', 'International Monetary Fund', 'Ion Sturza', 'Ion Țiriac', 'Iqbal Mirchi', 'Iraq', 'Irene Marcos', 'Israel', 'Italy', 'Ivory Coast', 'Iván Zamorano', 'Iñaki Urdangarin', 'Jackie Chan', 'Jacob Engel', 'Jacob Weinroth', 'Jacob Zuma', 'Jaime Rosenthal', 'Jaime de Marichalar', 'Jalisco New Generation Cartel', 'James Ibori', 'Japan', 'Jarno Trulli', 'Javier Bertucci', 'Javier de la Rosa', 'Jaynet Kabila', 'Jean-Marie Le Pen', 'Jean-Noël Guérini', 'Jehangir Saifullah Khan', 'Jesús Villanueva', 'Jia Chunwang', 'Jia Qinglin', 'Joaquim Barbosa', 'Joaquín Guzmán', 'John Addo Kufuor', 'John Doe (whistleblower)', 'John Jennings (businessman)', 'John Key', 'John Kufuor', 'Jordan', 'Jordi Cinca', 'Jordi Pujol', 'Josep Lluís Nuñez', 'Joseph Muscat', 'Joseph Nakash', 'José Luis Astiazarán', 'José Manuel Soria', 'José Maria Botelho de Vasconcelos', 'João Lyra', 'Juan Armando Hinojosa', 'Juan Carlos I of Spain', 'Juan Luis Cebrián', 'Juan Luis Guerra', 'Juan Pedro Damiani', 'Juanes', 'Julio de Vido', 'Jérôme Cahuzac', 'Jérôme Valcke', 'Júlíus Vífill Ingvarsson', 'Jürgen Mossack', 'K P Singh', 'Kalpana Rawal', 'Karim Wade', 'Kazakhstan', 'Keith Mills', 'Keith Schembri', 'Kenya', 'Kevin Keegan', 'Khalifa bin Zayed Al Nahyan', 'Khulubuse Zuma', 'Kim Chol-sam', 'King of Saudi Arabia', 'King of Spain', 'Kjell Gunnar Finstad', 'Kofi Annan', 'Kojo Annan', 'Konrad Mizzi', 'Kostas Karamanlis', \"L'espresso\", 'La Nación', 'La Repubblica', 'Lahore High Court', 'Lakson Group', 'Lansana Conté', 'Lanús', 'Laurent Gbagbo', 'Le Monde', 'Le Soir', 'Lebanon', 'Leonardo Ulloa', 'Letizia Ortiz', 'Lev Avnerovich Leviev', 'Levallois-Perret', 'Leyla Aliyeva', 'Li Peng', 'Li Xiaolin', 'Lionel Messi', 'List of Budget Ministers of France', 'List of Governors of Delta State', 'List of Presidents of Senegal', 'List of Presidents of UEFA', 'List of Prime Ministers of Pakistan', 'List of Prime Ministers of Qatar', 'List of emirs of Qatar', 'List of heads of state of Guinea', 'List of heads of state of Ivory Coast', 'List of heads of state of Sudan', 'List of mayors of Warsaw', 'List of members of the National Assembly of Hungary (2010–14)', 'List of people and organisations named in the Paradise Papers', 'List of people named in the Pandora Papers', 'List of presidents of FIFA', 'List of rulers of Morocco', 'List of spouses and partners of Icelandic presidents', 'Liu Yunshan', 'Lok Satta Party', 'Louise Blouin', 'Luca Cordero di Montezemolo', 'László Boldvai', 'Madrid', 'Maharashtra', 'Mahmoud Abbas', 'Major League Baseball', 'Malaysia', 'Malcolm Turnbull', 'Malik Mohammad Qayyum', 'Malik Riaz Hussain', 'Mallika Srinivasan', 'Malta', 'Mamadie Touré', 'Mao Zedong', 'Marc Rich', 'Marc Rieper', \"Marcello Dell'Utri\", 'Margaret Thatcher', 'Marianna Olszewski', 'Mariano Jinkis', \"Marina d'Or\", 'Marine Le Pen', 'Mario Vargas Llosa', 'Mark Thatcher', 'Marseille', 'Maryam Nawaz', 'Masood Textile Mills', 'Matheson (law firm)', 'Matthew Marcos Manotoc', 'Mattias Asper', 'Mauricio Macri', 'McClatchy DC', 'Mehriban Aliyeva', 'Meliá Hotels International', 'Member of Parliament of the Rajya Sabha', 'Member of parliament of the Rajya Sabha', \"Men's major golf championships\", 'Mendoza, Argentina', 'Mexico', 'Mexx', 'Miami Herald', 'Michael Ashcroft', 'Michael Mates', 'Michel Platini', 'Miguel Arias Cañete', 'Miguel Blesa', 'Mindvalley', 'Mineral industry of Africa', 'Minister for Environment (Pakistan)', 'Minister of Education', 'Minister of Industry and Commerce', 'Minister of the Economy, Finances and Industry (France)', 'Minister of the Interior (Iceland)', 'Ministry of Agriculture, Food and Environment (Spain)', \"Ministry of Commerce of the People's Republic of China\", 'Ministry of Construction (Israel)', 'Ministry of Defence (United Kingdom)', 'Ministry of Finance (Iceland)', 'Ministry of Industry (Spain)', 'Ministry of Interior (Saudi Arabia)', 'Ministry of Interior and Narcotics Control (Pakistan)', 'Ministry of Mines and Energy (Brazil)', 'Ministry of Petroleum and Natural Resources (Pakistan)', 'Miraflores Palace', 'Miss World', 'Mohammad Mustafa (economist)', 'Mohammed Faisal Karim Khan and Jafer Ummeed Khan', 'Mohammed VI of Morocco', 'Mohan Lal Lohia', 'Mohd Nazifuddin Najib', 'Moldova', 'Monaco', 'Monarchy of Spain', 'Morocco', 'Mossack Fonseca', 'Mounir Majidi', 'Muhammad bin Fahd', 'Muhammad bin Nayef', 'Municipal council', 'N. K. P. Salve', 'Nabih Berri', 'Najib Razak', 'Naples', 'National Assembly (Democratic Republic of the Congo)', 'National Assembly (France)', 'National Assembly (Hungary)', 'National Assembly of Pakistan', 'National Front (France)', 'National Intelligence Secretariat (Ecuador)', 'National Intelligence Service (Peru)', 'Nawaz Sharif', 'Nederlandse Spoorwegen', 'Nemesio Oseguera Cervantes', 'Netherlands', 'Neville Wran', 'New Zealand', 'Newton Cardoso Jr', 'Ng Lap Seng', 'Nick Faldo', 'Nicky Wu', 'Nico Rosberg', 'Nicola Di Girolamo', 'Nicolas Crochet', 'Nicolas Sarkozy', 'Nicolás Leoz', 'Nigel Rudd', 'Nigeria', 'Nihat Kahveci', 'Nobel Prize in Literature', 'North Korea', 'Nursultan Nazarbayev', 'Néstor Grindetti', 'Néstor Kirchner', 'Nóos case', 'Offshore company', 'Olsen twins', 'Olubuse II', 'Olympiacos F.C.', 'Olympique de Marseille', 'Omar Aggad', 'Onkar Kanwar', 'Orlando Petinatti', 'Oropesa de Mar', 'Osman Saifullah', 'Otto von Bismarck', 'PDVSA', 'PGA European Tour', 'PGA Tour', 'Pablo Picasso', 'Pakistan', 'Pakistan Muslim League', 'Pakistan Muslim League (Q)', 'Pakistan Poverty Alleviation Fund', 'Pamela Sharples, Baroness Sharples', 'Pana Merchant', 'Panama', 'Panama Papers', 'Panama Papers (Africa)', 'Panama Papers (Asia)', 'Panama Papers (North America)', 'Panama Papers (South America)', 'Panama as a tax haven', 'Panameñista Party', 'Paradise Papers', 'Paraguay', 'Paramount leader', 'Patokh Chodiev', 'Patrick Balkany', 'Paul Burrell', 'Paul McGuinness', 'Pavlo Lazarenko', 'Paweł Piskorski', 'Pedro Almodovar', 'Pedro Almodóvar', 'Pedro Bordaberry', 'Pedro Delgado Campaña', \"People's Party (Spain)\", 'Pepe Jeans', 'Peru', 'Pescanova', 'Peter Goldstein', 'Petro Poroshenko', 'Petroleum industry', 'Peñarol', 'Philippines', 'Pierre Papillaud', 'Pizza Hut', 'Playtech', 'Poland', 'Politburo Standing Committee of the Communist Party of China', 'Popular Alliance (Spain)', 'Premier of New South Wales', \"Premier of the People's Republic of China\", 'President of Argentina', 'President of Taiwan', 'President of Ukraine', 'President of the Community of Madrid', 'President of the Generalitat of Catalonia', 'President of the United Arab Emirates', 'Prime Minister of Australia', 'Prime Minister of Georgia', 'Prime Minister of Iceland', 'Prime Minister of Iraq', 'Prime Minister of Italy', 'Prime Minister of Jordan', 'Prime Minister of Moldova', 'Prime Minister of New Zealand', 'Prime Minister of Pakistan', 'Prime Minister of Spain', 'Prime Minister of Ukraine', 'Prince Andrew, Duke of York', 'Princess Diana', 'Prisa', 'Professional golfer', 'Professional tennis player', 'Propuesta Republicana', 'Province of Savona', 'Puerto Rico', 'Pádraig Harrington', 'Qatar', 'Queen of Spain', 'RIU Hotels & Resorts', 'RTVE', 'Rafael Caro Quintero', 'Rafael Correa', 'Rami Makhlouf', 'Ramón Fonseca Mora', 'Rattan Chadha', 'Ravindra Kishore Sinha', 'Reactions to the Panama Papers', 'Real Madrid', 'Real Sociedad', 'Rehman Malik', 'Republic of Ireland', 'Republic of the Congo', 'Reykjavík City Council', 'Ricardo Salinas Pliego', 'Riccardo Francolini', 'Richard Attias', 'Richard Morris (industrialist)', 'Road racing', 'Robbyanto Budiman', 'Robert Louis-Dreyfus', 'Rocco Forte', 'Rodrigo Rato', 'Roh Tae-woo', 'Roksanda Ilincic', 'Romania', 'Rome', 'Ronald Chagoury', 'Ronald Grierson', 'Ronald Reagan', 'Royal Dutch Shell', 'Russia', 'Rwanda', 'Sadruddin Hashwani', 'Saif Group', 'Salim Saifullah Khan', 'Salman bin Abdulaziz bin Salman Al Saud', 'Salman of Saudi Arabia', 'Samy Gemayel', 'Sander Westerveld', 'Sanford I. Weill', 'Santa Maria de Miralles', 'Sapphire Group', 'Sarah, Duchess of York', 'Saudi Arabia', 'Saudi royal family', 'Savannah', 'Savings Bank (Panama)', 'Sean Connery', 'Sean Mulryan', 'Secom', 'Secretary-General of the United Nations', 'Senado', 'Senate of France', 'Senate of Pakistan', 'Senate of Spain', 'Senate of the Republic (Italy)', 'Senegal', 'Serbia', 'Sergei Kurzin', 'Sergei Roldugin', 'Sergio Abreu (politician)', 'Sevil Aliyeva', 'Shahkur Ullah Durrani', 'Shamanuru Shivashankarappa', 'Shehbaz Sharif', 'Ship-owner', 'Shishir Bajoria', 'Sigmundur Davíð Gunnlaugsson', 'Silvio Berlusconi', 'Simon Cowell', 'Société Nationale des Pétroles du Congo', 'Sokratis Kokkalis', 'Soli Sorabjee', 'Solicitor General of India', 'Solomon Humes', 'Soulieman Marouf', 'South Africa', 'South Korea', 'Spain', 'Spanish Royal Family', 'Spanish secret service', 'Spanish transition to democracy', 'Sri Prakash Lohia', 'Stanley Kubrick', 'State of Palestine', 'Stavros Papastavrou', 'Stuart Gulliver', 'Sudan', 'Superdrug', 'Supreme Court of Pakistan', 'Supreme Court of Spain', 'Supreme Federal Court', \"Supreme People's Procuratorate\", 'Sveriges Television', 'Sweden', 'Switzerland', 'Syria', 'Süddeutsche Zeitung', 'TAFE - Tractors and Farm Equipment Limited', 'Taiwan', 'Tanker Pacific', 'Tarek Aggad', 'Tax evasion', 'Tayfun Korkut', 'Teddy Sagi', 'Televisión Española', 'Term deposit', 'The Bahamas', 'The Guardian', 'The Independent', 'The Indian Express', 'The Irish Times', 'The Reykjavík Grapevine', 'The Times of Israel', 'Thyssen Family', 'Tiger Woods', 'Time Inc.', 'Times of India', 'Tomas Berdych', 'Tony Baldry', 'Transparency International', 'Trust (business)', 'Tsai Ing-wen', 'Turkey', 'U2', 'UKIP', 'Ukraine', 'United Arab Emirates', 'United Kingdom', 'United Nations', 'United States', 'United States as a tax haven', 'Uri Blau', 'Uruguay', 'Uzbekistan', 'Valentino (fashion designer)', 'Valentino SpA', 'Valeri Karpin', 'Venezuela', 'Venezuelan Army', 'Vice President of Nigeria', 'Vice President of the Government of Spain', \"Vice President of the People's Republic of China\", 'Vicente López, Buenos Aires', 'Victor Cruz Weffer', 'Victor Dahdaleh', 'Vijay Mallya', 'Vishen Lakhiani', 'Vladimir Peftiev', 'Vladimir Putin', 'Volvo Cars', 'Víctor Carranza', 'Waldemar Kita', 'Wataniya Mobile', 'Wayback Machine', 'Willian (footballer, born 1988)', 'World Chess Championship', 'Xi Jinping', 'YMCA', 'Yasser Arafat', 'Yoav Galant', 'Yusuf Raza Gilani', 'Zambia', 'Zeng Qinghong', 'Zhang Gaoli', 'Zsolt Horváth (politician, 1964)', 'Àlex Crivillé', 'Ólafur Ragnar Grímsson', 'Ólöf Nordal']\n"
     ]
    }
   ],
   "source": [
    "print(wikipedia.page(\"List of people named in the Panama Papers\").links)"
   ]
  },
  {
   "cell_type": "code",
   "execution_count": 30,
   "metadata": {},
   "outputs": [
    {
     "name": "stdout",
     "output_type": "stream",
     "text": [
      "['1926 births', '20th-century British monarchs', '20th-century British women', '20th-century women rulers', '21st-century British monarchs', '21st-century British women', 'AC with 31 elements', 'Articles with BIBSYS identifiers', 'Articles with BNC identifiers', 'Articles with BNE identifiers', 'Articles with BNF identifiers', 'Articles with CANTIC identifiers', 'Articles with CINII identifiers', 'Articles with FAST identifiers', 'Articles with GND identifiers', 'Articles with ICCU identifiers', 'Articles with ISNI identifiers', 'Articles with LCCN identifiers', 'Articles with LNB identifiers', 'Articles with MusicBrainz identifiers', 'Articles with NARA identifiers', 'Articles with NDL identifiers', 'Articles with NKC identifiers', 'Articles with NLA identifiers', 'Articles with NLI identifiers', 'Articles with NLK identifiers', 'Articles with NSK identifiers', 'Articles with PLWABN identifiers', 'Articles with RERO identifiers', 'Articles with RISM identifiers', 'Articles with SELIBR identifiers', 'Articles with SNAC-ID identifiers', 'Articles with SUDOC identifiers', 'Articles with TePapa identifiers', 'Articles with Trove identifiers', 'Articles with ULAN identifiers', 'Articles with VIAF identifiers', 'Articles with WORLDCATID identifiers', 'Articles with hAudio microformats', 'Articles with multiple identifiers', 'Articles with short description', 'Auxiliary Territorial Service officers', 'British Anglicans', 'British Presbyterians', 'British philanthropists', 'British princesses', 'British racehorse owners and breeders', 'British women in World War II', 'Daughters of British monarchs', 'Duchesses of Edinburgh', 'Elizabeth II', 'Featured articles', 'Heads of state of Antigua and Barbuda', 'Heads of state of Barbados', 'Heads of state of Belize', 'Heads of state of Canada', 'Heads of state of Fiji', 'Heads of state of Ghana', 'Heads of state of Grenada', 'Heads of state of Guyana', 'Heads of state of Jamaica', 'Heads of state of Kenya', 'Heads of state of Malawi', 'Heads of state of Malta', 'Heads of state of Mauritius', 'Heads of state of New Zealand', 'Heads of state of Nigeria', 'Heads of state of Pakistan', 'Heads of state of Papua New Guinea', 'Heads of state of Saint Kitts and Nevis', 'Heads of state of Saint Lucia', 'Heads of state of Saint Vincent and the Grenadines', 'Heads of state of Sierra Leone', 'Heads of state of Tanganyika', 'Heads of state of Trinidad and Tobago', 'Heads of state of Tuvalu', 'Heads of state of Uganda', 'Heads of state of the Bahamas', 'Heads of state of the Gambia', 'Heads of state of the Solomon Islands', 'Heads of the Commonwealth', 'Heirs to the British throne', 'Honorary air commodores', 'House of Windsor', 'Jewellery collectors', 'Living people', 'Lord High Admirals', 'Monarchs of Australia', 'Monarchs of Ceylon', 'Monarchs of South Africa', 'Monarchs of the Isle of Man', 'Monarchs of the United Kingdom', 'Pages containing London Gazette template with parameter supp set to y', 'Pages using collapsible list without both background and text-align in titlestyle', 'People from Mayfair', 'People named in the Paradise Papers', 'Queens regnant in the British Isles', 'Short description is different from Wikidata', 'Spoken articles', 'Use British English from August 2019', 'Use dmy dates from August 2021', 'Wikipedia indefinitely semi-protected biographies of living people', 'Women in the Canadian armed services']\n"
     ]
    }
   ],
   "source": [
    "print(wikipedia.page(\"Elizabeth Alexandra Mary\").categories)"
   ]
  },
  {
   "cell_type": "code",
   "execution_count": null,
   "metadata": {},
   "outputs": [],
   "source": []
  }
 ],
 "metadata": {
  "interpreter": {
   "hash": "e4152fc55637a2f02741275b62aa99d3528e817d75779cb88320532a4cdd2304"
  },
  "kernelspec": {
   "display_name": "Python 3.8.8 64-bit ('base': conda)",
   "name": "python3"
  },
  "language_info": {
   "codemirror_mode": {
    "name": "ipython",
    "version": 3
   },
   "file_extension": ".py",
   "mimetype": "text/x-python",
   "name": "python",
   "nbconvert_exporter": "python",
   "pygments_lexer": "ipython3",
   "version": "3.8.8"
  },
  "orig_nbformat": 4
 },
 "nbformat": 4,
 "nbformat_minor": 2
}
